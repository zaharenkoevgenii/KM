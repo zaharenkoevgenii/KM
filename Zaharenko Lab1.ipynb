{
 "cells": [
  {
   "cell_type": "code",
   "execution_count": null,
   "metadata": {
    "collapsed": true
   },
   "outputs": [],
   "source": [
    "#знакомство с NumPy "
   ]
  },
  {
   "cell_type": "code",
   "execution_count": 1,
   "metadata": {
    "collapsed": true
   },
   "outputs": [],
   "source": [
    "import numpy as np"
   ]
  },
  {
   "cell_type": "code",
   "execution_count": 2,
   "metadata": {
    "collapsed": true
   },
   "outputs": [],
   "source": [
    "plain_array = [1, 2, 3, 4, 5]\n",
    "numpy_array = np.array(plain_array)"
   ]
  },
  {
   "cell_type": "code",
   "execution_count": 3,
   "metadata": {
    "collapsed": false
   },
   "outputs": [
    {
     "name": "stdout",
     "output_type": "stream",
     "text": [
      "<class 'list'> [1, 2, 3, 4, 5]\n",
      "<class 'numpy.ndarray'> [1 2 3 4 5]\n"
     ]
    }
   ],
   "source": [
    "print (type(plain_array), plain_array)\n",
    "print (type(numpy_array), numpy_array)"
   ]
  },
  {
   "cell_type": "code",
   "execution_count": 15,
   "metadata": {
    "collapsed": false
   },
   "outputs": [
    {
     "name": "stdout",
     "output_type": "stream",
     "text": [
      "[2, 3]\n",
      "[2 3]\n"
     ]
    }
   ],
   "source": [
    "print (plain_array[1:3])\n",
    "print (numpy_array[1:3])"
   ]
  },
  {
   "cell_type": "code",
   "execution_count": 18,
   "metadata": {
    "collapsed": false
   },
   "outputs": [
    {
     "name": "stdout",
     "output_type": "stream",
     "text": [
      "[1, 2, 3, 4, 5, 1, 2, 3, 4, 5, 1, 2, 3, 4, 5, 1, 2, 3, 4, 5, 1, 2, 3, 4, 5]\n",
      "[ 5 10 15 20 25]\n"
     ]
    }
   ],
   "source": [
    "print (plain_array * 5)\n",
    "print (numpy_array * 5)"
   ]
  },
  {
   "cell_type": "code",
   "execution_count": 19,
   "metadata": {
    "collapsed": false
   },
   "outputs": [
    {
     "name": "stdout",
     "output_type": "stream",
     "text": [
      "[1 3]\n",
      "[4 5]\n",
      "[ 1  4  9 16 25]\n"
     ]
    }
   ],
   "source": [
    "print (numpy_array[[0, 2]])\n",
    "print (numpy_array[numpy_array > 3])\n",
    "print (numpy_array ** 2)"
   ]
  },
  {
   "cell_type": "code",
   "execution_count": 20,
   "metadata": {
    "collapsed": true
   },
   "outputs": [],
   "source": [
    "matrix = [[1, 2, 4], [3, 1, 0]]\n",
    "nd_array = np.array(matrix)"
   ]
  },
  {
   "cell_type": "code",
   "execution_count": 22,
   "metadata": {
    "collapsed": false
   },
   "outputs": [
    {
     "name": "stdout",
     "output_type": "stream",
     "text": [
      "0\n"
     ]
    }
   ],
   "source": [
    "print (matrix[1][2])"
   ]
  },
  {
   "cell_type": "code",
   "execution_count": 24,
   "metadata": {
    "collapsed": false
   },
   "outputs": [
    {
     "name": "stdout",
     "output_type": "stream",
     "text": [
      "0\n"
     ]
    }
   ],
   "source": [
    "print (nd_array[1, 2])"
   ]
  },
  {
   "cell_type": "code",
   "execution_count": 26,
   "metadata": {
    "collapsed": false
   },
   "outputs": [
    {
     "name": "stdout",
     "output_type": "stream",
     "text": [
      "[[ 0.7923659   0.32454575  0.92544071  0.00967921  0.81930484]\n",
      " [ 0.09830769  0.2117723   0.23147541  0.78356145  0.59373285]\n",
      " [ 0.6769777   0.33144391  0.70148598  0.34527331  0.82994423]\n",
      " [ 0.52590776  0.08225898  0.91918877  0.15293671  0.60112189]]\n",
      "0.39374049340324313\n",
      "-0.833633047184475\n",
      "[ 0.16450736  0.78548134 -0.44235794 -0.00405343]\n",
      "[[ 0.63529511  0.78259837  0.32560377  0.74665308  0.96229043]\n",
      " [ 0.74736341  0.02004527  0.64710066  0.89156875  0.55518285]\n",
      " [ 0.43291624  0.72868741  0.81763304  0.0943362   0.0411504 ]\n",
      " [ 0.79077427  0.26812499  0.54234418  0.95291024  0.62064006]]\n",
      "[ 0.   0.1  0.2  0.3  0.4  0.5  0.6  0.7  0.8  0.9  1.   1.1  1.2  1.3  1.4\n",
      "  1.5  1.6  1.7  1.8  1.9  2.   2.1  2.2  2.3  2.4  2.5  2.6  2.7  2.8  2.9\n",
      "  3.   3.1  3.2  3.3  3.4  3.5  3.6  3.7  3.8  3.9  4.   4.1  4.2  4.3  4.4\n",
      "  4.5  4.6  4.7  4.8  4.9  5.   5.1  5.2  5.3  5.4  5.5  5.6  5.7  5.8  5.9\n",
      "  6.   6.1  6.2  6.3  6.4  6.5  6.6  6.7  6.8  6.9  7.   7.1  7.2  7.3  7.4\n",
      "  7.5  7.6  7.7  7.8  7.9]\n",
      "The slowest run took 4.33 times longer than the fastest. This could mean that an intermediate result is being cached.\n",
      "100000 loops, best of 3: 5.87 µs per loop\n",
      "1000000 loops, best of 3: 311 ns per loop\n"
     ]
    }
   ],
   "source": [
    "print (np.random.rand(4,5))\n",
    "print (np.random.rand())\n",
    "print (np.random.randn())\n",
    "print (np.random.randn(4))\n",
    "print (np.random.rand(4, 5))\n",
    "print (np.arange(0, 8, 0.1))\n",
    "%timeit np.arange(0, 10000)\n",
    "%timeit range(0, 10000)"
   ]
  },
  {
   "cell_type": "code",
   "execution_count": 27,
   "metadata": {
    "collapsed": false
   },
   "outputs": [
    {
     "data": {
      "text/plain": [
       "array([[ 0.,  0.,  0.],\n",
       "       [ 0.,  0.,  0.]])"
      ]
     },
     "execution_count": 27,
     "metadata": {},
     "output_type": "execute_result"
    }
   ],
   "source": [
    "np.zeros((2, 3))"
   ]
  },
  {
   "cell_type": "code",
   "execution_count": 28,
   "metadata": {
    "collapsed": false
   },
   "outputs": [
    {
     "data": {
      "text/plain": [
       "array([[ 1.,  0.,  0.],\n",
       "       [ 0.,  1.,  0.],\n",
       "       [ 0.,  0.,  1.]])"
      ]
     },
     "execution_count": 28,
     "metadata": {},
     "output_type": "execute_result"
    }
   ],
   "source": [
    "np.eye(3)"
   ]
  },
  {
   "cell_type": "code",
   "execution_count": 29,
   "metadata": {
    "collapsed": true
   },
   "outputs": [],
   "source": [
    "# знакомство с SciPy"
   ]
  },
  {
   "cell_type": "code",
   "execution_count": 30,
   "metadata": {
    "collapsed": true
   },
   "outputs": [],
   "source": [
    "from scipy import optimize"
   ]
  },
  {
   "cell_type": "code",
   "execution_count": 32,
   "metadata": {
    "collapsed": false
   },
   "outputs": [
    {
     "name": "stdout",
     "output_type": "stream",
     "text": [
      "3.0\n"
     ]
    }
   ],
   "source": [
    "def f(x):\n",
    "    return (x[0] - 3.2) ** 2 + (x[1] - 0.1) ** 2 + 3\n",
    "\n",
    "print (f([3.2, 0.1]))"
   ]
  },
  {
   "cell_type": "code",
   "execution_count": 33,
   "metadata": {
    "collapsed": false
   },
   "outputs": [
    {
     "name": "stdout",
     "output_type": "stream",
     "text": [
      "      fun: 3.0000000000000058\n",
      " hess_inv: array([[1, 0],\n",
      "       [0, 1]])\n",
      "      jac: array([ -1.49011612e-07,   5.96046448e-08])\n",
      "  message: 'Optimization terminated successfully.'\n",
      "     nfev: 12\n",
      "      nit: 1\n",
      "     njev: 3\n",
      "   status: 0\n",
      "  success: True\n",
      "        x: array([ 3.19999993,  0.10000002])\n"
     ]
    }
   ],
   "source": [
    "x_min = optimize.minimize(f, [5, 5])\n",
    "print (x_min)"
   ]
  },
  {
   "cell_type": "code",
   "execution_count": 34,
   "metadata": {
    "collapsed": false
   },
   "outputs": [
    {
     "name": "stdout",
     "output_type": "stream",
     "text": [
      "      fun: 3.000000000000001\n",
      " hess_inv: array([[ 0.85742574,  0.22574258],\n",
      "       [ 0.22574258,  0.64257427]])\n",
      "      jac: array([ -2.98023224e-08,   0.00000000e+00])\n",
      "  message: 'Optimization terminated successfully.'\n",
      "     nfev: 16\n",
      "      nit: 2\n",
      "     njev: 4\n",
      "   status: 0\n",
      "  success: True\n",
      "        x: array([ 3.19999997,  0.09999999])\n"
     ]
    }
   ],
   "source": [
    "print (optimize.minimize(f, [2, 2]))"
   ]
  },
  {
   "cell_type": "code",
   "execution_count": 35,
   "metadata": {
    "collapsed": false
   },
   "outputs": [
    {
     "name": "stdout",
     "output_type": "stream",
     "text": [
      "     fun: 3.0\n",
      "     jac: array([ 0.,  0.])\n",
      " message: 'Optimization terminated successfully.'\n",
      "    nfev: 309\n",
      "     nit: 9\n",
      " success: True\n",
      "       x: array([ 3.2,  0.1])\n"
     ]
    }
   ],
   "source": [
    "print (optimize.differential_evolution(f, ((-5, 5), (-5, 5))))"
   ]
  },
  {
   "cell_type": "code",
   "execution_count": 36,
   "metadata": {
    "collapsed": false
   },
   "outputs": [
    {
     "name": "stdout",
     "output_type": "stream",
     "text": [
      "      fun: 3.000000000000001\n",
      " hess_inv: array([[ 0.85742574,  0.22574258],\n",
      "       [ 0.22574258,  0.64257427]])\n",
      "      jac: array([ -2.98023224e-08,   0.00000000e+00])\n",
      "  message: 'Optimization terminated successfully.'\n",
      "     nfev: 16\n",
      "      nit: 2\n",
      "     njev: 4\n",
      "   status: 0\n",
      "  success: True\n",
      "        x: array([ 3.19999997,  0.09999999])\n"
     ]
    }
   ],
   "source": [
    "print (optimize.minimize(f, [2, 2], method='BFGS'))"
   ]
  },
  {
   "cell_type": "code",
   "execution_count": 37,
   "metadata": {
    "collapsed": false
   },
   "outputs": [
    {
     "name": "stdout",
     "output_type": "stream",
     "text": [
      " final_simplex: (array([[ 3.20002341,  0.10000036],\n",
      "       [ 3.19997762,  0.0999624 ],\n",
      "       [ 3.19994876,  0.10004262]]), array([ 3.,  3.,  3.]))\n",
      "           fun: 3.0000000005482397\n",
      "       message: 'Optimization terminated successfully.'\n",
      "          nfev: 78\n",
      "           nit: 42\n",
      "        status: 0\n",
      "       success: True\n",
      "             x: array([ 3.20002341,  0.10000036])\n"
     ]
    }
   ],
   "source": [
    "print (optimize.minimize(f, [2, 2], method='Nelder-Mead'))"
   ]
  },
  {
   "cell_type": "code",
   "execution_count": 38,
   "metadata": {
    "collapsed": false
   },
   "outputs": [
    {
     "name": "stdout",
     "output_type": "stream",
     "text": [
      "[ 3.19999993  0.10000002]\n"
     ]
    }
   ],
   "source": [
    "print (x_min.x)"
   ]
  },
  {
   "cell_type": "code",
   "execution_count": 39,
   "metadata": {
    "collapsed": true
   },
   "outputs": [],
   "source": [
    "from scipy import linalg"
   ]
  },
  {
   "cell_type": "code",
   "execution_count": 41,
   "metadata": {
    "collapsed": false
   },
   "outputs": [
    {
     "name": "stdout",
     "output_type": "stream",
     "text": [
      "[ 2. -2.  9.]\n"
     ]
    }
   ],
   "source": [
    "a = np.array([[3, 2, 0], [1, -1, 0], [0, 5, 1]])\n",
    "b = np.array([2, 4, -1])\n",
    "\n",
    "x = linalg.solve(a, b)\n",
    "print (x)"
   ]
  },
  {
   "cell_type": "code",
   "execution_count": 42,
   "metadata": {
    "collapsed": false
   },
   "outputs": [
    {
     "name": "stdout",
     "output_type": "stream",
     "text": [
      "[ 2.  4. -1.]\n"
     ]
    }
   ],
   "source": [
    "print (np.dot(a, x))"
   ]
  },
  {
   "cell_type": "code",
   "execution_count": 44,
   "metadata": {
    "collapsed": false
   },
   "outputs": [
    {
     "name": "stdout",
     "output_type": "stream",
     "text": [
      "(4, 4) (3,) (3, 3)\n",
      "<class 'numpy.ndarray'> <class 'numpy.ndarray'> <class 'numpy.ndarray'>\n"
     ]
    }
   ],
   "source": [
    "X = np.random.randn(4, 3)\n",
    "U, D, V = linalg.svd(X)\n",
    "print (U.shape, D.shape, V.shape)\n",
    "print (type(U), type(D), type(V))"
   ]
  },
  {
   "cell_type": "code",
   "execution_count": 45,
   "metadata": {
    "collapsed": true
   },
   "outputs": [],
   "source": [
    "# Знакомство с MathPlotLib"
   ]
  },
  {
   "cell_type": "code",
   "execution_count": 46,
   "metadata": {
    "collapsed": true
   },
   "outputs": [],
   "source": [
    "%matplotlib inline"
   ]
  },
  {
   "cell_type": "code",
   "execution_count": 47,
   "metadata": {
    "collapsed": false
   },
   "outputs": [
    {
     "data": {
      "image/png": "[encoded data removed]",
      "text/plain": [
       "<matplotlib.figure.Figure at 0x1f4a664f160>"
      ]
     },
     "metadata": {},
     "output_type": "display_data"
    }
   ],
   "source": [
    "from matplotlib import pylab as plt\n",
    "\n",
    "plt.plot([1, 2, 3, 4], [1, 4, 9, 16])\n",
    "plt.show()"
   ]
  },
  {
   "cell_type": "code",
   "execution_count": 48,
   "metadata": {
    "collapsed": false
   },
   "outputs": [
    {
     "data": {
      "image/png": "[encoded data removed]",
      "text/plain": [
       "<matplotlib.figure.Figure at 0x1f4a6362a20>"
      ]
     },
     "metadata": {},
     "output_type": "display_data"
    }
   ],
   "source": [
    "x = np.arange(-10, 10, 0.1)\n",
    "y = x ** 3\n",
    "plt.plot(x, y)\n",
    "plt.show()"
   ]
  },
  {
   "cell_type": "code",
   "execution_count": 49,
   "metadata": {
    "collapsed": true
   },
   "outputs": [],
   "source": [
    "from scipy import interpolate"
   ]
  },
  {
   "cell_type": "code",
   "execution_count": 51,
   "metadata": {
    "collapsed": false
   },
   "outputs": [
    {
     "name": "stdout",
     "output_type": "stream",
     "text": [
      "[0 2 4 6 8]\n",
      "[ 1.02472375  0.55418708  0.32867705  0.12905752  0.04322896]\n"
     ]
    }
   ],
   "source": [
    "x = np.arange(0, 10, 2)\n",
    "y = np.exp(-x/3.0) + np.random.randn(len(x)) * 0.05\n",
    "\n",
    "print (x[:5])\n",
    "print (y[:5])"
   ]
  },
  {
   "cell_type": "code",
   "execution_count": 52,
   "metadata": {
    "collapsed": true
   },
   "outputs": [],
   "source": [
    "f = interpolate.interp1d(x, y, kind='quadratic')\n",
    "xnew = np.arange(0, 8, 0.1)\n",
    "ynew = f(xnew)"
   ]
  },
  {
   "cell_type": "code",
   "execution_count": 53,
   "metadata": {
    "collapsed": false
   },
   "outputs": [
    {
     "data": {
      "image/png": "[encoded data removed]",
      "text/plain": [
       "<matplotlib.figure.Figure at 0x1f4a6d79da0>"
      ]
     },
     "metadata": {},
     "output_type": "display_data"
    }
   ],
   "source": [
    "plt.plot(x, y, 'o', xnew, ynew, '-')\n",
    "plt.show()"
   ]
  },
  {
   "cell_type": "code",
   "execution_count": 54,
   "metadata": {
    "collapsed": true
   },
   "outputs": [],
   "source": [
    "y = np.ndarray([1, 2, 3, 4, 6])"
   ]
  },
  {
   "cell_type": "code",
   "execution_count": 55,
   "metadata": {
    "collapsed": false
   },
   "outputs": [
    {
     "data": {
      "text/plain": [
       "array([[[  0.00000000e+000,   1.06238108e-311,   0.00000000e+000,\n",
       "           1.06237950e-311,   0.00000000e+000,   1.42290906e-321],\n",
       "        [  9.88131292e-324,   1.06237950e-311,   1.06234826e-311,\n",
       "           8.44033014e-053,   1.48219694e-322,               nan],\n",
       "        [  1.06237903e-311,   6.01346930e-154,   1.06237950e-311,\n",
       "           0.00000000e+000,   0.00000000e+000,   0.00000000e+000],\n",
       "        [  0.00000000e+000,   0.00000000e+000,   0.00000000e+000,\n",
       "           0.00000000e+000,   0.00000000e+000,   0.00000000e+000]],\n",
       "\n",
       "       [[  0.00000000e+000,   0.00000000e+000,   0.00000000e+000,\n",
       "           0.00000000e+000,   0.00000000e+000,   0.00000000e+000],\n",
       "        [  0.00000000e+000,   0.00000000e+000,   0.00000000e+000,\n",
       "           0.00000000e+000,   0.00000000e+000,   0.00000000e+000],\n",
       "        [  0.00000000e+000,   0.00000000e+000,   0.00000000e+000,\n",
       "           0.00000000e+000,   0.00000000e+000,   0.00000000e+000],\n",
       "        [  0.00000000e+000,   0.00000000e+000,   1.06237950e-311,\n",
       "           2.86380576e+242,   6.01334542e-154,   4.17309334e+199]],\n",
       "\n",
       "       [[  2.07348683e+026,   4.37439427e+257,   1.69592889e-152,\n",
       "           6.10171548e+247,   7.87488138e+276,   7.49853143e-260],\n",
       "        [  6.01347002e-154,   6.01347002e-154,   6.01347002e-154,\n",
       "           6.61961397e+265,   3.98222661e+209,   1.02166334e-259],\n",
       "        [  2.96409257e+222,   2.15009608e-259,   6.01347002e-154,\n",
       "           2.74804114e+233,   2.17237193e-153,   1.99110755e+209],\n",
       "        [  8.28860109e-114,   1.80717784e-094,   2.31598416e+251,\n",
       "           2.41797364e+198,   6.01334510e-154,   6.01347002e-154]]])"
      ]
     },
     "execution_count": 55,
     "metadata": {},
     "output_type": "execute_result"
    }
   ],
   "source": [
    "y[0,1]"
   ]
  },
  {
   "cell_type": "code",
   "execution_count": 56,
   "metadata": {
    "collapsed": true
   },
   "outputs": [],
   "source": [
    "# Нахождение предложений в тексте"
   ]
  },
  {
   "cell_type": "code",
   "execution_count": 1,
   "metadata": {
    "collapsed": true
   },
   "outputs": [],
   "source": [
    "from requests import get\n",
    "from scipy import spatial\n",
    "import re\n",
    "from numpy import array\n",
    "from time import time"
   ]
  },
  {
   "cell_type": "code",
   "execution_count": 2,
   "metadata": {
    "collapsed": false
   },
   "outputs": [],
   "source": [
    "#1 загрузка текста\n",
    "holmes_url = \"http://www.gutenberg.org/cache/epub/1661/pg1661.txt\"\n",
    "response = get(holmes_url)\n",
    "text = response.text"
   ]
  },
  {
   "cell_type": "code",
   "execution_count": 3,
   "metadata": {
    "collapsed": true
   },
   "outputs": [],
   "source": [
    "#2 приведение к нижнему регистру\n",
    "text_lowercase = text.lower()"
   ]
  },
  {
   "cell_type": "code",
   "execution_count": 4,
   "metadata": {
    "collapsed": false
   },
   "outputs": [
    {
     "name": "stdout",
     "output_type": "stream",
     "text": [
      "147772\n"
     ]
    }
   ],
   "source": [
    "#3 разделение на слова\n",
    "words = re.split('[^a-z]', text_lowercase)\n",
    "print(len(words))"
   ]
  },
  {
   "cell_type": "code",
   "execution_count": 5,
   "metadata": {
    "collapsed": false
   },
   "outputs": [
    {
     "name": "stdout",
     "output_type": "stream",
     "text": [
      "109000\n",
      "8068\n"
     ]
    }
   ],
   "source": [
    "#4 создание неповторяющегося массива непустых слов\n",
    "def fil(word):\n",
    "    if not word: return False\n",
    "    if word == '\\n' or word == '\\r' or word == '\\n\\r': return False\n",
    "    else: return True\n",
    "    \n",
    "words = list(filter(fil, words))\n",
    "print(len(words))\n",
    "words = list(set(words))\n",
    "print(len(words))"
   ]
  },
  {
   "cell_type": "code",
   "execution_count": 12,
   "metadata": {
    "collapsed": false
   },
   "outputs": [
    {
     "name": "stdout",
     "output_type": "stream",
     "text": [
      "6975\n",
      "6940\n"
     ]
    }
   ],
   "source": [
    "#5 создание массива предложений\n",
    "reg = re.compile('[A-Za-z0-9 \\'\"@#,:;\\(\\)\\*-]{2,}(?=[\\.!?\" ]+[0-9A-Z\"\\'])')\n",
    "text = text.replace('\\r', ' ').replace('\\n', ' ').replace('\\r\\n', ' ').replace('\\\\', '').replace('Mr.', 'Mr')\\\n",
    "    .replace('Mrs.', 'Mrs').replace('St.', 'St').replace('I.',' ').replace('I.',' ').replace('II.',' ')\\\n",
    "    .replace('III.',' ').replace('IV.',' ').replace('VI.',' ').replace('V.',' ').replace('VII.',' ').replace('VIII.',' ')\\\n",
    "    .replace('XI.',' ').replace('IX.',' ').replace('X.',' ').replace('XII.',' ').replace('XIII.',' ')\n",
    "sentences = reg.findall(text)\n",
    "\n",
    "print(len(sentences))\n",
    "def filt(sentence):\n",
    "    if len(sentence) <= 1 or sentence in ['\\r', '\\n', '\\r\\n', '  ', \"' \", \"'  \", '\"  ', '\" ', '  1', ' 1', ' 4',\n",
    "                                          '\"    ', '    ', \"'   \", '    1', '    4', \"'    \"]:\n",
    "        return False\n",
    "    else:\n",
    "        return True\n",
    "\n",
    "sentences = list(filter(filt, sentences))\n",
    "print(len(sentences))"
   ]
  },
  {
   "cell_type": "code",
   "execution_count": 13,
   "metadata": {
    "collapsed": false
   },
   "outputs": [
    {
     "name": "stdout",
     "output_type": "stream",
     "text": [
      "(6940, 8068)\n"
     ]
    }
   ],
   "source": [
    "#6 хитрая матрица\n",
    "def num(word, sentences):\n",
    "    return len([w for w in sentences.lower().split() if word in w])\n",
    "\n",
    "M = array([[num(word, sentence) for word in words] for sentence in sentences])\n",
    "print(M.shape)"
   ]
  },
  {
   "cell_type": "code",
   "execution_count": 14,
   "metadata": {
    "collapsed": false
   },
   "outputs": [
    {
     "name": "stdout",
     "output_type": "stream",
     "text": [
      " And the man who wrote the note is a German\n",
      "2967\n",
      "0.0961531476334\n",
      " This is the man whom we now  learn to have been the lodger at the opium den, and to have been  the last man to see the gentleman of whom we are in quest\n"
     ]
    }
   ],
   "source": [
    "#7 косинусное расстояние\n",
    "sen = M[111]\n",
    "print(sentences[111])\n",
    "tmpM = list(M)\n",
    "tmpM.pop(111)\n",
    "\n",
    "res = array([spatial.distance.cosine(sen, sentence) for sentence in tmpM])\n",
    "min_res = res.argmin()\n",
    "min_sen = min_res + 1 if min_res >= 111 else min_res\n",
    "print(min_res)\n",
    "print(res[min_res])\n",
    "print(sentences[min_sen])"
   ]
  },
  {
   "cell_type": "code",
   "execution_count": 15,
   "metadata": {
    "collapsed": false
   },
   "outputs": [
    {
     "name": "stdout",
     "output_type": "stream",
     "text": [
      "946\n",
      " And, first,  one or two questions, Mr Wilson\n",
      "1411\n",
      "\"    \"One more question\n"
     ]
    }
   ],
   "source": [
    "#8 похожее предложение\n",
    "def simple_sentence(Matrix, number):\n",
    "    sen = Matrix[number]\n",
    "    M = list(Matrix)\n",
    "    M.pop(number)\n",
    "    res = array([spatial.distance.cosine(sen, sentence) for sentence in M])\n",
    "    max_simp = res.argmin()\n",
    "    return max_simp + 1 if max_simp >= number else max_simp\n",
    "\n",
    "m = int(str(time())[-3:])\n",
    "print(m)\n",
    "print(sentences[m])\n",
    "n = simple_sentence(M, m)\n",
    "print(n)\n",
    "print(sentences[n])"
   ]
  },
  {
   "cell_type": "code",
   "execution_count": null,
   "metadata": {
    "collapsed": true
   },
   "outputs": [],
   "source": []
  }
 ],
 "metadata": {
  "anaconda-cloud": {},
  "kernelspec": {
   "display_name": "Python [Root]",
   "language": "python",
   "name": "Python [Root]"
  },
  "language_info": {
   "codemirror_mode": {
    "name": "ipython",
    "version": 3
   },
   "file_extension": ".py",
   "mimetype": "text/x-python",
   "name": "python",
   "nbconvert_exporter": "python",
   "pygments_lexer": "ipython3",
   "version": "3.5.2"
  }
 },
 "nbformat": 4,
 "nbformat_minor": 0
}
